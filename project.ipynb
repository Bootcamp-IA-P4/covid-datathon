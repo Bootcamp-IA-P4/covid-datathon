{
 "cells": [
  {
   "cell_type": "code",
   "execution_count": null,
   "metadata": {},
   "outputs": [],
   "source": [
    "import os\n",
    "import csv\n",
    "import requests\n",
    "import numpy as np\n",
    "import pandas as pd\n",
    "import seaborn as sns\n",
    "import matplotlib.pyplot as plt"
   ]
  },
  {
   "cell_type": "code",
   "execution_count": null,
   "metadata": {},
   "outputs": [
    {
     "data": {
      "text/plain": [
       "✅ Successfully saved us_daily.csv\n",
       "✅ Successfully saved us_current.csv\n",
       "✅ Successfully saved states_daily.csv\n",
       "✅ Successfully saved states_current.csv\n",
       "✅ Successfully saved states_info.csv\n"
      ]
     },
     "metadata": {},
     "output_type": "display_data"
    }
   ],
   "source": [
    "BASE_URL = \"https://api.covidtracking.com/v1\"\n",
    "\n",
    "# Define all endpoints\n",
    "endpoints = {\n",
    "    \"us_daily\": \"/us/daily.json\",\n",
    "    \"us_current\": \"/us/current.json\",\n",
    "    \"states_daily\": \"/states/daily.json\",\n",
    "    \"states_current\": \"/states/current.json\",\n",
    "    \"states_info\": \"/states/info.json\"\n",
    "}\n",
    "\n",
    "# Fetch and save data for each endpoint\n",
    "for name, endpoint in endpoints.items():\n",
    "    url = BASE_URL + endpoint\n",
    "    response = requests.get(url)\n",
    "    \n",
    "    if response.status_code == 200:\n",
    "        data = response.json()\n",
    "        df = pd.DataFrame(data)\n",
    "        df.to_csv(f\"{name}.csv\", index=False)\n",
    "        print(f\"✅ Successfully saved {name}.csv\")\n",
    "    else:\n",
    "        print(f\"❌ Failed to fetch {name}. Status code: {response.status_code}\")"
   ]
  }
 ],
 "metadata": {
  "language_info": {
   "name": "python"
  }
 },
 "nbformat": 4,
 "nbformat_minor": 2
}
