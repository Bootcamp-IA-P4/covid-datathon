{
 "cells": [
  {
   "cell_type": "code",
   "execution_count": null,
   "metadata": {},
   "outputs": [],
   "source": [
    "import os\n",
    "import csv\n",
    "import requests\n",
    "import numpy as np\n",
    "import pandas as pd\n",
    "import seaborn as sns\n",
    "import matplotlib.pyplot as plt"
   ]
  },
  {
   "cell_type": "code",
   "execution_count": null,
   "metadata": {},
   "outputs": [],
   "source": [
    "BASE_URL = \"https://api.covidtracking.com/v1\"\n",
    "\n",
    "# Define all endpoints\n",
    "endpoints = {\n",
    "    \"us_daily\": \"/us/daily.json\",\n",
    "    \"us_current\": \"/us/current.json\",\n",
    "    \"states_daily\": \"/states/daily.json\",\n",
    "    \"states_current\": \"/states/current.json\",\n",
    "    \"states_info\": \"/states/info.json\"\n",
    "}\n",
    "\n",
    "# Fetch and save data for each endpoint\n",
    "for name, endpoint in endpoints.items():\n",
    "    url = BASE_URL + endpoint\n",
    "    response = requests.get(url)\n",
    "    \n",
    "    if response.status_code == 200:\n",
    "        data = response.json()\n",
    "        df = pd.DataFrame(data)\n",
    "        df.to_csv(f\"{name}.csv\", index=False)\n",
    "        print(f\"✅ Successfully saved {name}.csv\")\n",
    "    else:\n",
    "        print(f\"❌ Failed to fetch {name}. Status code: {response.status_code}\")"
   ]
  },
  {
   "cell_type": "code",
   "execution_count": null,
   "metadata": {},
   "outputs": [],
   "source": [
    "# Load datasets\n",
    "us_current = pd.read_csv(\"us_current.csv\")\n",
    "states_daily = pd.read_csv(\"states_daily.csv\")\n",
    "states_current = pd.read_csv(\"states_current.csv\")\n",
    "states_info = pd.read_csv(\"states_info.csv\")"
   ]
  },
  {
   "cell_type": "markdown",
   "metadata": {},
   "source": [
    "## US Daily\n",
    "\n",
    "### Description\n",
    "\n",
    "> Investigation and analysis of data"
   ]
  },
  {
   "cell_type": "code",
   "execution_count": null,
   "metadata": {},
   "outputs": [],
   "source": [
    "# Load datasets\n",
    "us_daily = pd.read_csv(\"us_daily.csv\")\n",
    "\n",
    "# Get summary statistics for numerical columns\n",
    "numerical_summary = us_daily.describe()\n",
    "\n",
    "# Get summary for non-numerical columns\n",
    "categorical_summary = us_daily.describe(include=['object'])\n",
    "\n",
    "print(\"Numerical Summary:\")\n",
    "print(numerical_summary)\n",
    "print(\"\\nCategorical Summary:\")\n",
    "print(categorical_summary)"
   ]
  },
  {
   "cell_type": "code",
   "execution_count": null,
   "metadata": {},
   "outputs": [],
   "source": [
    "us_daily['daily_new_cases'] = us_daily['positive'].diff()"
   ]
  },
  {
   "cell_type": "code",
   "execution_count": null,
   "metadata": {},
   "outputs": [],
   "source": [
    "print(\"Total deaths:\", us_daily['death'].max())\n",
    "print(\"Peak hospitalized:\", us_daily['hospitalizedCurrently'].max())"
   ]
  }
 ],
 "metadata": {
  "kernelspec": {
   "display_name": "usr",
   "language": "python",
   "name": "python3"
  },
  "language_info": {
   "codemirror_mode": {
    "name": "ipython",
    "version": 3
   },
   "file_extension": ".py",
   "mimetype": "text/x-python",
   "name": "python",
   "nbconvert_exporter": "python",
   "pygments_lexer": "ipython3",
   "version": "3.12.9"
  }
 },
 "nbformat": 4,
 "nbformat_minor": 2
}
